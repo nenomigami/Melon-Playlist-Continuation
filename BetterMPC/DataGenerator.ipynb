{
 "cells": [
  {
   "cell_type": "code",
   "execution_count": 138,
   "metadata": {
    "ExecuteTime": {
     "end_time": "2020-08-02T14:50:36.013219Z",
     "start_time": "2020-08-02T14:50:35.999206Z"
    }
   },
   "outputs": [],
   "source": [
    "# -*- coding: utf-8 -*-\n",
    "\"\"\"\n",
    "Created on Wed Jul 29 22:21:49 2020\n",
    "\n",
    "@author: ghdbs\n",
    "\"\"\"\n",
    "\n",
    "from \n",
    "\n",
    "class DataGenerator(ArenaSplitter):\n",
    "    \"\"\"\n",
    "    1. train을 27 : 3 : 1 로 나눈다.\n",
    "    2. train2, train3 을 test 와 같은 모양으로 masking 한다\n",
    "    3. stage1 에 쓰일 train, valid 를 한 파일로 만든다.\n",
    "    \"\"\"\n",
    "    def __init__(self,):\n",
    "        pass\n",
    "    \n",
    "    def split_train_test(self, train):\n",
    "        train1, train2, train3 = self.split(train)\n",
    "        train2_q = self.masking(train2)\n",
    "        train3_q = self.masking(train3)\n",
    "        return train1, train2, train3, train2_q, train3_q\n",
    "    \n",
    "    def masking(self, train, col, seed):\n",
    "        #col을 불러온다.\n",
    "        #인덱스 길이의 절반의 랜덤인덱스를 뽑는다\n",
    "        #그 인덱스의 리스트는 제거한다.\n",
    "        tot = len(train)\n",
    "        song_only = 0.42\n",
    "        song_tag = 0.39\n",
    "        tag_only = 0.11\n",
    "        title_only = 0.8\n",
    "        for i in range(len(train)):\n",
    "            row = train.iloc[i, ]\n",
    "            list = row[col]\n",
    "            \n",
    "        \n",
    "    def mask(self, train, col, seed):\n",
    "        np.random.seed(seed)\n",
    "        for i in range(len(train)):\n",
    "            row = train.loc[i,col]\n",
    "            no_mask = np.random.choice(row, size = (len(row)+1)//2, replace=False)\n",
    "            train.at[i,col] = no_mask\n",
    "        \n",
    "    \n",
    "    def split(self, train):\n",
    "        length = len(train)\n",
    "        train1 = train.iloc[:int(length * 27/31)]  \n",
    "        train2 = train.iloc[int(length * 27/31):int(length * 30/31)]\n",
    "        train3 = train.iloc[int(length * 30/31):]\n",
    "        return train1, train2, train3"
   ]
  },
  {
   "cell_type": "code",
   "execution_count": 139,
   "metadata": {
    "ExecuteTime": {
     "end_time": "2020-08-02T14:50:37.421500Z",
     "start_time": "2020-08-02T14:50:36.343520Z"
    }
   },
   "outputs": [],
   "source": [
    "import pandas as pd\n",
    "import numpy as np\n",
    "train = pd.read_json(\"data/train.json\").head(5)"
   ]
  },
  {
   "cell_type": "code",
   "execution_count": 147,
   "metadata": {
    "ExecuteTime": {
     "end_time": "2020-08-02T14:51:26.582326Z",
     "start_time": "2020-08-02T14:51:26.577321Z"
    }
   },
   "outputs": [],
   "source": [
    "DataGenerator().mask(train,\"songs\",2020)"
   ]
  }
 ],
 "metadata": {
  "kernelspec": {
   "display_name": "Python 3",
   "language": "python",
   "name": "python3"
  },
  "language_info": {
   "codemirror_mode": {
    "name": "ipython",
    "version": 3
   },
   "file_extension": ".py",
   "mimetype": "text/x-python",
   "name": "python",
   "nbconvert_exporter": "python",
   "pygments_lexer": "ipython3",
   "version": "3.7.6"
  },
  "toc": {
   "base_numbering": 1,
   "nav_menu": {},
   "number_sections": true,
   "sideBar": true,
   "skip_h1_title": false,
   "title_cell": "Table of Contents",
   "title_sidebar": "Contents",
   "toc_cell": false,
   "toc_position": {},
   "toc_section_display": true,
   "toc_window_display": false
  },
  "varInspector": {
   "cols": {
    "lenName": 16,
    "lenType": 16,
    "lenVar": 40
   },
   "kernels_config": {
    "python": {
     "delete_cmd_postfix": "",
     "delete_cmd_prefix": "del ",
     "library": "var_list.py",
     "varRefreshCmd": "print(var_dic_list())"
    },
    "r": {
     "delete_cmd_postfix": ") ",
     "delete_cmd_prefix": "rm(",
     "library": "var_list.r",
     "varRefreshCmd": "cat(var_dic_list()) "
    }
   },
   "types_to_exclude": [
    "module",
    "function",
    "builtin_function_or_method",
    "instance",
    "_Feature"
   ],
   "window_display": false
  }
 },
 "nbformat": 4,
 "nbformat_minor": 4
}
